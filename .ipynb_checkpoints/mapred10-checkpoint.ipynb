{
 "cells": [
  {
   "cell_type": "code",
   "execution_count": null,
   "id": "669a3ab9-106f-44a7-ad04-dea0b2427294",
   "metadata": {},
   "outputs": [],
   "source": [
    "from pyspark.sql import SparkSession\n",
    "from pyspark.sql.functions import col, desc\n",
    "\n",
    "# Créer une session Spark\n",
    "spark = SparkSession.builder \\\n",
    "    .appName(\"Airbnb Expensive Trips\") \\\n",
    "    .getOrCreate()\n",
    "\n",
    "df = spark.read.parquet(\"hdfs://namenode:9000/data/data_trans/\")\n",
    "\n",
    "\n",
    "df = df.select(\"origin_id\", \"destination_id\", \"price_cents\")\n",
    "\n",
    "df = df.na.drop(subset=[\"price_cents\"])\n",
    "\n",
    "rdd = df.rdd.map(lambda row: ((row[\"origin_id\"], row[\"destination_id\"]), row[\"price_cents\"]))\n",
    "\n",
    "max_prices = rdd.reduceByKey(lambda a, b: max(a, b))\n",
    "\n",
    "max_prices_df = max_prices.map(lambda x: (x[0][0], x[0][1], x[1])) \\\n",
    "                          .toDF([\"origin_id\", \"destination_id\", \"max_price_cents\"])\n",
    "\n",
    "max_prices_df = max_prices_df.sort(desc(\"max_price_cents\"))\n",
    "\n",
    "max_prices_df.show(10)\n",
    "\n"
   ]
  }
 ],
 "metadata": {
  "kernelspec": {
   "display_name": "Python 3 (ipykernel)",
   "language": "python",
   "name": "python3"
  },
  "language_info": {
   "codemirror_mode": {
    "name": "ipython",
    "version": 3
   },
   "file_extension": ".py",
   "mimetype": "text/x-python",
   "name": "python",
   "nbconvert_exporter": "python",
   "pygments_lexer": "ipython3",
   "version": "3.8.17"
  }
 },
 "nbformat": 4,
 "nbformat_minor": 5
}
