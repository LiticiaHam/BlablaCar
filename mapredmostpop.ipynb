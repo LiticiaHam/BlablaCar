{
 "cells": [
  {
   "cell_type": "code",
   "execution_count": null,
   "id": "8a1531cf-f99d-48fe-b81f-c98a9b1b20ca",
   "metadata": {},
   "outputs": [],
   "source": [
    "from pyspark.sql import SparkSession\n",
    "from pyspark.sql.functions import desc\n",
    "\n",
    "spark = SparkSession.builder \\\n",
    "    .appName(\"Most Popular Destinations with MapReduce\") \\\n",
    "    .getOrCreate()\n",
    "\n",
    "df = spark.read.parquet(\"hdfs://namenode:9000/data/data_trans/\")\n",
    "\n",
    "df = df.select(\"origin_id\", \"destination_id\", \"price_cents\")\n",
    "\n",
    "df = df.na.drop(subset=[\"price_cents\", \"destination_id\"])\n",
    "\n",
    "rdd = df.rdd.map(lambda row: (row[\"destination_id\"], (1, row[\"price_cents\"])))\n",
    "\n",
    "reduced_rdd = rdd.reduceByKey(lambda a, b: (a[0] + b[0], a[1] + b[1]))\n",
    "\n",
    "average_price_rdd = reduced_rdd.map(lambda x: (x[0], x[1][0], x[1][1] / x[1][0]))\n",
    "\n",
    "popular_destinations_df = average_price_rdd.toDF([\"destination_id\", \"trip_count\", \"avg_price_cents\"])\n",
    "\n",
    "popular_destinations_df = popular_destinations_df.sort(desc(\"trip_count\"))\n",
    "\n",
    "popular_destinations_df.show(10)\n",
    "\n"
   ]
  }
 ],
 "metadata": {
  "kernelspec": {
   "display_name": "Python 3 (ipykernel)",
   "language": "python",
   "name": "python3"
  },
  "language_info": {
   "codemirror_mode": {
    "name": "ipython",
    "version": 3
   },
   "file_extension": ".py",
   "mimetype": "text/x-python",
   "name": "python",
   "nbconvert_exporter": "python",
   "pygments_lexer": "ipython3",
   "version": "3.8.17"
  }
 },
 "nbformat": 4,
 "nbformat_minor": 5
}
